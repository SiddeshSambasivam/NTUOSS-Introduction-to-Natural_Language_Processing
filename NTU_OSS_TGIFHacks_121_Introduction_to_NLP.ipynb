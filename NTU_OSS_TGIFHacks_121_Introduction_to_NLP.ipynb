{
  "nbformat": 4,
  "nbformat_minor": 0,
  "metadata": {
    "colab": {
      "name": "NTU OSS TGIFHacks #121: Introduction to NLP.ipynb",
      "provenance": []
    },
    "kernelspec": {
      "name": "python3",
      "display_name": "Python 3"
    },
    "accelerator": "GPU"
  },
  "cells": [
    {
      "cell_type": "markdown",
      "metadata": {
        "id": "XdgWtErEPNlC"
      },
      "source": [
        "## **NTU OSS TGIFHacks #121**\n",
        "# **An Introduction to Natural Language Processing**\n",
        "\n",
        "In this notebook, we'll be training a language model on a very small text snippet. \n",
        "\n",
        "We will be using the GloVe embeddings as the initial weights for the model and train a simple bidirectional LSTM.\n",
        "\n"
      ]
    },
    {
      "cell_type": "code",
      "metadata": {
        "colab": {
          "base_uri": "https://localhost:8080/"
        },
        "id": "0zO4FFKHPOon",
        "outputId": "156dcb07-4127-45cf-907f-93ddf5280709"
      },
      "source": [
        "from tensorflow.keras.preprocessing.sequence import pad_sequences\n",
        "from tensorflow.keras.layers import Embedding, LSTM, Dense, Dropout, Bidirectional, RNN\n",
        "from tensorflow.keras.preprocessing.text import Tokenizer\n",
        "from tensorflow.keras.models import Sequential\n",
        "from tensorflow.keras.optimizers import Adam\n",
        "import tensorflow.keras.utils as ku \n",
        "import numpy as np \n",
        "\n",
        "!wget https://resources.oreilly.com/conferences/natural-language-processing-with-deep-learning/raw/master/data/glove.6B.100d.txt"
      ],
      "execution_count": 63,
      "outputs": [
        {
          "output_type": "stream",
          "text": [
            "--2021-01-28 04:34:40--  https://resources.oreilly.com/conferences/natural-language-processing-with-deep-learning/raw/master/data/glove.6B.100d.txt\n",
            "Resolving resources.oreilly.com (resources.oreilly.com)... 199.27.144.213, 199.27.144.212\n",
            "Connecting to resources.oreilly.com (resources.oreilly.com)|199.27.144.213|:443... connected.\n",
            "HTTP request sent, awaiting response... 200 OK\n",
            "Length: 347116733 (331M) [text/plain]\n",
            "Saving to: ‘glove.6B.100d.txt.2’\n",
            "\n",
            "glove.6B.100d.txt.2 100%[===================>] 331.04M  37.1MB/s    in 10s     \n",
            "\n",
            "2021-01-28 04:34:51 (32.8 MB/s) - ‘glove.6B.100d.txt.2’ saved [347116733/347116733]\n",
            "\n"
          ],
          "name": "stdout"
        }
      ]
    },
    {
      "cell_type": "code",
      "metadata": {
        "colab": {
          "base_uri": "https://localhost:8080/"
        },
        "id": "6-Et8JM43HH6",
        "outputId": "b9775341-bb43-45a2-ec42-e2b3954cb63a"
      },
      "source": [
        "# Load the GloVe Eembddings\n",
        "# This version of the embeddings has around 6 Billion words and each word has a word embeddings of dimension of 100\n",
        "\n",
        "print('Indexing word vectors.')\n",
        "embeddings_index = {}\n",
        "f = open('glove.6B.100d.txt', encoding='utf-8')\n",
        "for line in f:\n",
        "    values = line.split()\n",
        "    word = values[0]\n",
        "    coefs = np.asarray(values[1:], dtype='float32')\n",
        "    embeddings_index[word] = coefs\n",
        "f.close()\n",
        "\n",
        "print('Found %s word vectors.' % len(embeddings_index))"
      ],
      "execution_count": 65,
      "outputs": [
        {
          "output_type": "stream",
          "text": [
            "Indexing word vectors.\n",
            "Found 400000 word vectors.\n"
          ],
          "name": "stdout"
        }
      ]
    },
    {
      "cell_type": "code",
      "metadata": {
        "id": "QfhlFzUsSFx9"
      },
      "source": [
        "tokenizer = Tokenizer()\n",
        "\n",
        "# This is \"Lanigan's Ball\", its a popular fold irish song\n",
        "data=\"In the town of Athy one Jeremy Lanigan \\n Battered away til he hadnt a pound. \\nHis father died and made him a man again \\n Left him a farm and ten acres of ground. \\nHe gave a grand party for friends and relations \\nWho didnt forget him when come to the wall, \\nAnd if youll but listen Ill make your eyes glisten \\nOf the rows and the ructions of Lanigans Ball. \\nMyself to be sure got free invitation, \\nFor all the nice girls and boys I might ask, \\nAnd just in a minute both friends and relations \\nWere dancing round merry as bees round a cask. \\nJudy ODaly, that nice little milliner, \\nShe tipped me a wink for to give her a call, \\nAnd I soon arrived with Peggy McGilligan \\nJust in time for Lanigans Ball. \\nThere were lashings of punch and wine for the ladies, \\nPotatoes and cakes; there was bacon and tea, \\nThere were the Nolans, Dolans, OGradys \\nCourting the girls and dancing away. \\nSongs they went round as plenty as water, \\nThe harp that once sounded in Taras old hall,\\nSweet Nelly Gray and The Rat Catchers Daughter,\\nAll singing together at Lanigans Ball. \\nThey were doing all kinds of nonsensical polkas \\nAll round the room in a whirligig. \\nJulia and I, we banished their nonsense \\nAnd tipped them the twist of a reel and a jig. \\nAch mavrone, how the girls got all mad at me \\nDanced til youd think the ceiling would fall. \\nFor I spent three weeks at Brooks Academy \\nLearning new steps for Lanigans Ball. \\nThree long weeks I spent up in Dublin, \\nThree long weeks to learn nothing at all,\\n Three long weeks I spent up in Dublin, \\nLearning new steps for Lanigans Ball. \\nShe stepped out and I stepped in again, \\nI stepped out and she stepped in again, \\nShe stepped out and I stepped in again, \\nLearning new steps for Lanigans Ball. \\nBoys were all merry and the girls they were hearty \\nAnd danced all around in couples and groups, \\nTil an accident happened, young Terrance McCarthy \\nPut his right leg through miss Finnertys hoops. \\nPoor creature fainted and cried Meelia murther, \\nCalled for her brothers and gathered them all. \\nCarmody swore that hed go no further \\nTil he had satisfaction at Lanigans Ball. \\nIn the midst of the row miss Kerrigan fainted, \\nHer cheeks at the same time as red as a rose. \\nSome of the lads declared she was painted, \\nShe took a small drop too much, I suppose. \\nHer sweetheart, Ned Morgan, so powerful and able, \\nWhen he saw his fair colleen stretched out by the wall, \\nTore the left leg from under the table \\nAnd smashed all the Chaneys at Lanigans Ball. \\nBoys, oh boys, twas then there were runctions. \\nMyself got a lick from big Phelim McHugh. \\nI soon replied to his introduction \\nAnd kicked up a terrible hullabaloo. \\nOld Casey, the piper, was near being strangled. \\nThey squeezed up his pipes, bellows, chanters and all. \\nThe girls, in their ribbons, they got all entangled \\nAnd that put an end to Lanigans Ball.\"\n",
        "corpus = data.lower().split('\\n')\n",
        "\n",
        "# Train the tokenizer on the text\n",
        "tokenizer.fit_on_texts(corpus)\n",
        "total_words = len(tokenizer.word_index) + 1\n",
        "input_sequences = []\n",
        "\n",
        "for line in corpus:\n",
        "  token_list = tokenizer.texts_to_sequences([line])[0]\n",
        "  for i in range(1, len(token_list)):\n",
        "    n_gram = token_list[:i+1]\n",
        "    input_sequences.append(n_gram)"
      ],
      "execution_count": 66,
      "outputs": []
    },
    {
      "cell_type": "code",
      "metadata": {
        "id": "Me4u_FolSgJl"
      },
      "source": [
        "'''\n",
        "Pad all sentences to max length.\n",
        "\n",
        "Padding Type: Pre\n",
        "[0 0 0 0 0 4 5 6 6 23 3]\n",
        "\n",
        "Padding Type: Post\n",
        "[4 5 6 6 23 3 0 0 0 0 0]\n",
        "\n",
        "'''\n",
        "\n",
        "max_seq_len = max([len(x) for x in input_sequences])\n",
        "padded_seq = np.array(pad_sequences(input_sequences, maxlen= max_seq_len, padding='pre')) \n",
        "\n",
        "xs, labels = padded_seq[:, :-1], padded_seq[:, -1]\n",
        "\n",
        "#labels need to be converted class encodings\n",
        "ys = ku.to_categorical(labels, num_classes=total_words)\n"
      ],
      "execution_count": 67,
      "outputs": []
    },
    {
      "cell_type": "code",
      "metadata": {
        "colab": {
          "base_uri": "https://localhost:8080/"
        },
        "id": "dGxPoBlF9QdL",
        "outputId": "d6cc2961-a62b-482d-9956-390451920650"
      },
      "source": [
        "'''\n",
        "This is initializes the weights matrix for all the words in the vocab and the glove embeddings\n",
        "'''\n",
        "embedding_matrix = np.zeros((total_words, 100))\n",
        "for word, i in tokenizer.word_index.items():\n",
        "    embedding_vector = embeddings_index.get(word)\n",
        "    if embedding_vector is not None:\n",
        "        embedding_matrix[i] = embedding_vector\n",
        "\n",
        "print(embedding_matrix.shape)"
      ],
      "execution_count": 68,
      "outputs": [
        {
          "output_type": "stream",
          "text": [
            "(263, 100)\n"
          ],
          "name": "stdout"
        }
      ]
    },
    {
      "cell_type": "code",
      "metadata": {
        "id": "tN_mfG579N84"
      },
      "source": [
        "model = Sequential([\n",
        "\tEmbedding(total_words, 100, input_length=max_seq_len-1, weights=[embedding_matrix]),\n",
        "\tBidirectional(LSTM(20)),\n",
        "\tDense(total_words, activation='softmax')\n",
        "])"
      ],
      "execution_count": 69,
      "outputs": []
    },
    {
      "cell_type": "code",
      "metadata": {
        "colab": {
          "base_uri": "https://localhost:8080/"
        },
        "id": "_wgg4vFNSjM6",
        "outputId": "9d172e80-7c9d-47fb-8ecd-b40e517a7313"
      },
      "source": [
        "model.compile(loss='categorical_crossentropy',optimizer='adam',metrics=['accuracy'])\n",
        "history = model.fit(xs, ys, epochs=100, verbose=1)"
      ],
      "execution_count": 70,
      "outputs": [
        {
          "output_type": "stream",
          "text": [
            "Epoch 1/100\n",
            "15/15 [==============================] - 3s 8ms/step - loss: 5.5585 - accuracy: 0.0026\n",
            "Epoch 2/100\n",
            "15/15 [==============================] - 0s 7ms/step - loss: 5.4939 - accuracy: 0.0419\n",
            "Epoch 3/100\n",
            "15/15 [==============================] - 0s 6ms/step - loss: 5.4127 - accuracy: 0.0715\n",
            "Epoch 4/100\n",
            "15/15 [==============================] - 0s 7ms/step - loss: 5.2844 - accuracy: 0.0610\n",
            "Epoch 5/100\n",
            "15/15 [==============================] - 0s 7ms/step - loss: 5.1412 - accuracy: 0.0782\n",
            "Epoch 6/100\n",
            "15/15 [==============================] - 0s 7ms/step - loss: 5.0386 - accuracy: 0.0690\n",
            "Epoch 7/100\n",
            "15/15 [==============================] - 0s 6ms/step - loss: 4.8727 - accuracy: 0.0816\n",
            "Epoch 8/100\n",
            "15/15 [==============================] - 0s 6ms/step - loss: 4.8737 - accuracy: 0.0665\n",
            "Epoch 9/100\n",
            "15/15 [==============================] - 0s 7ms/step - loss: 4.8271 - accuracy: 0.0624\n",
            "Epoch 10/100\n",
            "15/15 [==============================] - 0s 7ms/step - loss: 4.7400 - accuracy: 0.0771\n",
            "Epoch 11/100\n",
            "15/15 [==============================] - 0s 6ms/step - loss: 4.6133 - accuracy: 0.0920\n",
            "Epoch 12/100\n",
            "15/15 [==============================] - 0s 6ms/step - loss: 4.5367 - accuracy: 0.1014\n",
            "Epoch 13/100\n",
            "15/15 [==============================] - 0s 7ms/step - loss: 4.4689 - accuracy: 0.1076\n",
            "Epoch 14/100\n",
            "15/15 [==============================] - 0s 6ms/step - loss: 4.3550 - accuracy: 0.1412\n",
            "Epoch 15/100\n",
            "15/15 [==============================] - 0s 7ms/step - loss: 4.3303 - accuracy: 0.1083\n",
            "Epoch 16/100\n",
            "15/15 [==============================] - 0s 8ms/step - loss: 4.1459 - accuracy: 0.1418\n",
            "Epoch 17/100\n",
            "15/15 [==============================] - 0s 6ms/step - loss: 4.1158 - accuracy: 0.1540\n",
            "Epoch 18/100\n",
            "15/15 [==============================] - 0s 6ms/step - loss: 4.0041 - accuracy: 0.1677\n",
            "Epoch 19/100\n",
            "15/15 [==============================] - 0s 6ms/step - loss: 3.8644 - accuracy: 0.2048\n",
            "Epoch 20/100\n",
            "15/15 [==============================] - 0s 6ms/step - loss: 3.8565 - accuracy: 0.1808\n",
            "Epoch 21/100\n",
            "15/15 [==============================] - 0s 7ms/step - loss: 3.7822 - accuracy: 0.2221\n",
            "Epoch 22/100\n",
            "15/15 [==============================] - 0s 6ms/step - loss: 3.6388 - accuracy: 0.2480\n",
            "Epoch 23/100\n",
            "15/15 [==============================] - 0s 6ms/step - loss: 3.6579 - accuracy: 0.2353\n",
            "Epoch 24/100\n",
            "15/15 [==============================] - 0s 6ms/step - loss: 3.6016 - accuracy: 0.2231\n",
            "Epoch 25/100\n",
            "15/15 [==============================] - 0s 7ms/step - loss: 3.3928 - accuracy: 0.2938\n",
            "Epoch 26/100\n",
            "15/15 [==============================] - 0s 7ms/step - loss: 3.3520 - accuracy: 0.2975\n",
            "Epoch 27/100\n",
            "15/15 [==============================] - 0s 6ms/step - loss: 3.3283 - accuracy: 0.3144\n",
            "Epoch 28/100\n",
            "15/15 [==============================] - 0s 6ms/step - loss: 3.1913 - accuracy: 0.3509\n",
            "Epoch 29/100\n",
            "15/15 [==============================] - 0s 7ms/step - loss: 3.1156 - accuracy: 0.3162\n",
            "Epoch 30/100\n",
            "15/15 [==============================] - 0s 6ms/step - loss: 2.9862 - accuracy: 0.3623\n",
            "Epoch 31/100\n",
            "15/15 [==============================] - 0s 7ms/step - loss: 2.9937 - accuracy: 0.4023\n",
            "Epoch 32/100\n",
            "15/15 [==============================] - 0s 7ms/step - loss: 2.9201 - accuracy: 0.4078\n",
            "Epoch 33/100\n",
            "15/15 [==============================] - 0s 6ms/step - loss: 2.8012 - accuracy: 0.4606\n",
            "Epoch 34/100\n",
            "15/15 [==============================] - 0s 6ms/step - loss: 2.7311 - accuracy: 0.4565\n",
            "Epoch 35/100\n",
            "15/15 [==============================] - 0s 6ms/step - loss: 2.7574 - accuracy: 0.4528\n",
            "Epoch 36/100\n",
            "15/15 [==============================] - 0s 7ms/step - loss: 2.6464 - accuracy: 0.4893\n",
            "Epoch 37/100\n",
            "15/15 [==============================] - 0s 6ms/step - loss: 2.5573 - accuracy: 0.5624\n",
            "Epoch 38/100\n",
            "15/15 [==============================] - 0s 6ms/step - loss: 2.5374 - accuracy: 0.5163\n",
            "Epoch 39/100\n",
            "15/15 [==============================] - 0s 7ms/step - loss: 2.5060 - accuracy: 0.5649\n",
            "Epoch 40/100\n",
            "15/15 [==============================] - 0s 7ms/step - loss: 2.4145 - accuracy: 0.5959\n",
            "Epoch 41/100\n",
            "15/15 [==============================] - 0s 6ms/step - loss: 2.3704 - accuracy: 0.5817\n",
            "Epoch 42/100\n",
            "15/15 [==============================] - 0s 6ms/step - loss: 2.2632 - accuracy: 0.6050\n",
            "Epoch 43/100\n",
            "15/15 [==============================] - 0s 7ms/step - loss: 2.2866 - accuracy: 0.5834\n",
            "Epoch 44/100\n",
            "15/15 [==============================] - 0s 7ms/step - loss: 2.2157 - accuracy: 0.6251\n",
            "Epoch 45/100\n",
            "15/15 [==============================] - 0s 6ms/step - loss: 2.1945 - accuracy: 0.6413\n",
            "Epoch 46/100\n",
            "15/15 [==============================] - 0s 6ms/step - loss: 2.1164 - accuracy: 0.6379\n",
            "Epoch 47/100\n",
            "15/15 [==============================] - 0s 6ms/step - loss: 2.0323 - accuracy: 0.6614\n",
            "Epoch 48/100\n",
            "15/15 [==============================] - 0s 7ms/step - loss: 2.0372 - accuracy: 0.6491\n",
            "Epoch 49/100\n",
            "15/15 [==============================] - 0s 8ms/step - loss: 2.0361 - accuracy: 0.6631\n",
            "Epoch 50/100\n",
            "15/15 [==============================] - 0s 7ms/step - loss: 1.9854 - accuracy: 0.6537\n",
            "Epoch 51/100\n",
            "15/15 [==============================] - 0s 7ms/step - loss: 1.8990 - accuracy: 0.6999\n",
            "Epoch 52/100\n",
            "15/15 [==============================] - 0s 7ms/step - loss: 1.8871 - accuracy: 0.7301\n",
            "Epoch 53/100\n",
            "15/15 [==============================] - 0s 6ms/step - loss: 1.8389 - accuracy: 0.6861\n",
            "Epoch 54/100\n",
            "15/15 [==============================] - 0s 6ms/step - loss: 1.7421 - accuracy: 0.7455\n",
            "Epoch 55/100\n",
            "15/15 [==============================] - 0s 7ms/step - loss: 1.7248 - accuracy: 0.7840\n",
            "Epoch 56/100\n",
            "15/15 [==============================] - 0s 6ms/step - loss: 1.6946 - accuracy: 0.7392\n",
            "Epoch 57/100\n",
            "15/15 [==============================] - 0s 6ms/step - loss: 1.7121 - accuracy: 0.7328\n",
            "Epoch 58/100\n",
            "15/15 [==============================] - 0s 7ms/step - loss: 1.6125 - accuracy: 0.7837\n",
            "Epoch 59/100\n",
            "15/15 [==============================] - 0s 7ms/step - loss: 1.5799 - accuracy: 0.7486\n",
            "Epoch 60/100\n",
            "15/15 [==============================] - 0s 7ms/step - loss: 1.5885 - accuracy: 0.7767\n",
            "Epoch 61/100\n",
            "15/15 [==============================] - 0s 6ms/step - loss: 1.5221 - accuracy: 0.7961\n",
            "Epoch 62/100\n",
            "15/15 [==============================] - 0s 6ms/step - loss: 1.4768 - accuracy: 0.8185\n",
            "Epoch 63/100\n",
            "15/15 [==============================] - 0s 6ms/step - loss: 1.4301 - accuracy: 0.8075\n",
            "Epoch 64/100\n",
            "15/15 [==============================] - 0s 6ms/step - loss: 1.3902 - accuracy: 0.8227\n",
            "Epoch 65/100\n",
            "15/15 [==============================] - 0s 7ms/step - loss: 1.3287 - accuracy: 0.8428\n",
            "Epoch 66/100\n",
            "15/15 [==============================] - 0s 6ms/step - loss: 1.3729 - accuracy: 0.8190\n",
            "Epoch 67/100\n",
            "15/15 [==============================] - 0s 6ms/step - loss: 1.3781 - accuracy: 0.8589\n",
            "Epoch 68/100\n",
            "15/15 [==============================] - 0s 6ms/step - loss: 1.2995 - accuracy: 0.8455\n",
            "Epoch 69/100\n",
            "15/15 [==============================] - 0s 6ms/step - loss: 1.2454 - accuracy: 0.8536\n",
            "Epoch 70/100\n",
            "15/15 [==============================] - 0s 7ms/step - loss: 1.2569 - accuracy: 0.8592\n",
            "Epoch 71/100\n",
            "15/15 [==============================] - 0s 6ms/step - loss: 1.2578 - accuracy: 0.8294\n",
            "Epoch 72/100\n",
            "15/15 [==============================] - 0s 6ms/step - loss: 1.2228 - accuracy: 0.8546\n",
            "Epoch 73/100\n",
            "15/15 [==============================] - 0s 6ms/step - loss: 1.1750 - accuracy: 0.8644\n",
            "Epoch 74/100\n",
            "15/15 [==============================] - 0s 6ms/step - loss: 1.1713 - accuracy: 0.8742\n",
            "Epoch 75/100\n",
            "15/15 [==============================] - 0s 7ms/step - loss: 1.1270 - accuracy: 0.8804\n",
            "Epoch 76/100\n",
            "15/15 [==============================] - 0s 6ms/step - loss: 1.1340 - accuracy: 0.8625\n",
            "Epoch 77/100\n",
            "15/15 [==============================] - 0s 6ms/step - loss: 1.0876 - accuracy: 0.8790\n",
            "Epoch 78/100\n",
            "15/15 [==============================] - 0s 7ms/step - loss: 1.0965 - accuracy: 0.8808\n",
            "Epoch 79/100\n",
            "15/15 [==============================] - 0s 7ms/step - loss: 1.1032 - accuracy: 0.8593\n",
            "Epoch 80/100\n",
            "15/15 [==============================] - 0s 6ms/step - loss: 1.0770 - accuracy: 0.8745\n",
            "Epoch 81/100\n",
            "15/15 [==============================] - 0s 7ms/step - loss: 1.0094 - accuracy: 0.8938\n",
            "Epoch 82/100\n",
            "15/15 [==============================] - 0s 6ms/step - loss: 1.0043 - accuracy: 0.9108\n",
            "Epoch 83/100\n",
            "15/15 [==============================] - 0s 6ms/step - loss: 0.9848 - accuracy: 0.8877\n",
            "Epoch 84/100\n",
            "15/15 [==============================] - 0s 6ms/step - loss: 0.9999 - accuracy: 0.8914\n",
            "Epoch 85/100\n",
            "15/15 [==============================] - 0s 7ms/step - loss: 0.9485 - accuracy: 0.9141\n",
            "Epoch 86/100\n",
            "15/15 [==============================] - 0s 7ms/step - loss: 0.9075 - accuracy: 0.9106\n",
            "Epoch 87/100\n",
            "15/15 [==============================] - 0s 7ms/step - loss: 0.9039 - accuracy: 0.9073\n",
            "Epoch 88/100\n",
            "15/15 [==============================] - 0s 6ms/step - loss: 0.8923 - accuracy: 0.8969\n",
            "Epoch 89/100\n",
            "15/15 [==============================] - 0s 7ms/step - loss: 0.8692 - accuracy: 0.8890\n",
            "Epoch 90/100\n",
            "15/15 [==============================] - 0s 6ms/step - loss: 0.8686 - accuracy: 0.8821\n",
            "Epoch 91/100\n",
            "15/15 [==============================] - 0s 7ms/step - loss: 0.8353 - accuracy: 0.9003\n",
            "Epoch 92/100\n",
            "15/15 [==============================] - 0s 6ms/step - loss: 0.7867 - accuracy: 0.9191\n",
            "Epoch 93/100\n",
            "15/15 [==============================] - 0s 6ms/step - loss: 0.7887 - accuracy: 0.9128\n",
            "Epoch 94/100\n",
            "15/15 [==============================] - 0s 7ms/step - loss: 0.7970 - accuracy: 0.8824\n",
            "Epoch 95/100\n",
            "15/15 [==============================] - 0s 6ms/step - loss: 0.8137 - accuracy: 0.8964\n",
            "Epoch 96/100\n",
            "15/15 [==============================] - 0s 7ms/step - loss: 0.7376 - accuracy: 0.9238\n",
            "Epoch 97/100\n",
            "15/15 [==============================] - 0s 6ms/step - loss: 0.7684 - accuracy: 0.8995\n",
            "Epoch 98/100\n",
            "15/15 [==============================] - 0s 6ms/step - loss: 0.7352 - accuracy: 0.9265\n",
            "Epoch 99/100\n",
            "15/15 [==============================] - 0s 6ms/step - loss: 0.6709 - accuracy: 0.9348\n",
            "Epoch 100/100\n",
            "15/15 [==============================] - 0s 7ms/step - loss: 0.6822 - accuracy: 0.9377\n"
          ],
          "name": "stdout"
        }
      ]
    },
    {
      "cell_type": "code",
      "metadata": {
        "colab": {
          "base_uri": "https://localhost:8080/"
        },
        "id": "vN09OUgpSsan",
        "outputId": "888ff8f9-dc64-4e0e-cd32-51cc90046a77"
      },
      "source": [
        "seed_text = \"you're my only hope\"\n",
        "next_words = 10\n",
        "  \n",
        "for _ in range(next_words):\n",
        "\ttoken_list = tokenizer.texts_to_sequences([seed_text])[0]\n",
        "\ttoken_list = pad_sequences([token_list], maxlen=max_seq_len-1, padding='pre')\n",
        "\tpredicted = model.predict_classes(token_list, verbose=0)\n",
        "\toutput_word = \"\"\n",
        "\tfor word, index in tokenizer.word_index.items():\n",
        "\t\tif index == predicted:\n",
        "\t\t\toutput_word = word\n",
        "\t\t\tbreak\n",
        "\tseed_text += \" \" + output_word\n",
        "print(seed_text)"
      ],
      "execution_count": 71,
      "outputs": [
        {
          "output_type": "stream",
          "text": [
            "/usr/local/lib/python3.6/dist-packages/tensorflow/python/keras/engine/sequential.py:450: UserWarning: `model.predict_classes()` is deprecated and will be removed after 2021-01-01. Please use instead:* `np.argmax(model.predict(x), axis=-1)`,   if your model does multi-class classification   (e.g. if it uses a `softmax` last-layer activation).* `(model.predict(x) > 0.5).astype(\"int32\")`,   if your model does binary classification   (e.g. if it uses a `sigmoid` last-layer activation).\n",
            "  warnings.warn('`model.predict_classes()` is deprecated and '\n"
          ],
          "name": "stderr"
        },
        {
          "output_type": "stream",
          "text": [
            "you're my only hope were all for chaneys for nice at all entangled groups\n"
          ],
          "name": "stdout"
        }
      ]
    },
    {
      "cell_type": "markdown",
      "metadata": {
        "id": "BJBHV3SSQT18"
      },
      "source": [
        "You can clearly observe that the performance of the model is not that great, its because of the small size of the training data. Usually language models are trained on more than a billions word corpus. \n",
        "\n",
        "I hope this gives a very basic idea about how language modeling task is actually implemented."
      ]
    },
    {
      "cell_type": "code",
      "metadata": {
        "id": "fXbS598NQpzv"
      },
      "source": [
        ""
      ],
      "execution_count": null,
      "outputs": []
    }
  ]
}