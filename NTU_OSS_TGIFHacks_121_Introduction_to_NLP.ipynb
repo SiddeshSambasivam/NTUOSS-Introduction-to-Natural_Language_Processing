{
  "nbformat": 4,
  "nbformat_minor": 0,
  "metadata": {
    "colab": {
      "name": "NTU OSS TGIFHacks #121: Introduction to NLP.ipynb",
      "provenance": []
    },
    "kernelspec": {
      "name": "python3",
      "display_name": "Python 3"
    },
    "accelerator": "GPU"
  },
  "cells": [
    {
      "cell_type": "markdown",
      "metadata": {
        "id": "XdgWtErEPNlC"
      },
      "source": [
        "## **NTU OSS TGIFHacks #121**\n",
        "# **An Introduction to Natural Language Processing**\n",
        "\n",
        "In this notebook, we'll be training a language model on a very small text snippet. \n",
        "\n",
        "We will be using the GloVe embeddings as the initial weights for the model and train a simple bidirectional LSTM.\n",
        "\n"
      ]
    },
    {
      "cell_type": "code",
      "metadata": {
        "colab": {
          "base_uri": "https://localhost:8080/"
        },
        "id": "0zO4FFKHPOon",
        "outputId": "50e09c65-925d-4ae6-c68c-62bc448a5a9b"
      },
      "source": [
        "from tensorflow.keras.preprocessing.sequence import pad_sequences\n",
        "from tensorflow.keras.layers import Embedding, LSTM, Dense, Dropout, Bidirectional, RNN\n",
        "from tensorflow.keras.preprocessing.text import Tokenizer\n",
        "from tensorflow.keras.models import Sequential\n",
        "from tensorflow.keras.optimizers import Adam\n",
        "import tensorflow.keras.utils as ku \n",
        "import numpy as np \n",
        "\n",
        "!wget https://resources.oreilly.com/conferences/natural-language-processing-with-deep-learning/raw/master/data/glove.6B.100d.txt"
      ],
      "execution_count": 1,
      "outputs": [
        {
          "output_type": "stream",
          "text": [
            "--2021-01-29 09:08:39--  https://resources.oreilly.com/conferences/natural-language-processing-with-deep-learning/raw/master/data/glove.6B.100d.txt\n",
            "Resolving resources.oreilly.com (resources.oreilly.com)... 199.27.144.212, 199.27.144.213\n",
            "Connecting to resources.oreilly.com (resources.oreilly.com)|199.27.144.212|:443... connected.\n",
            "HTTP request sent, awaiting response... 200 OK\n",
            "Length: 347116733 (331M) [text/plain]\n",
            "Saving to: ‘glove.6B.100d.txt’\n",
            "\n",
            "glove.6B.100d.txt   100%[===================>] 331.04M  28.9MB/s    in 22s     \n",
            "\n",
            "2021-01-29 09:09:02 (15.2 MB/s) - ‘glove.6B.100d.txt’ saved [347116733/347116733]\n",
            "\n"
          ],
          "name": "stdout"
        }
      ]
    },
    {
      "cell_type": "code",
      "metadata": {
        "colab": {
          "base_uri": "https://localhost:8080/"
        },
        "id": "6-Et8JM43HH6",
        "outputId": "2669f8cc-5155-47fe-eba0-d9a24d461743"
      },
      "source": [
        "# Load the GloVe Eembddings\n",
        "# This version of the embeddings has around 6 Billion words and each word has a word embeddings of dimension of 100\n",
        "\n",
        "print('Indexing word vectors.')\n",
        "embeddings_index = {}\n",
        "f = open('glove.6B.100d.txt', encoding='utf-8')\n",
        "for line in f:\n",
        "    values = line.split()\n",
        "    word = values[0]\n",
        "    coefs = np.asarray(values[1:], dtype='float32')\n",
        "    embeddings_index[word] = coefs\n",
        "f.close()\n",
        "\n",
        "print('Found %s word vectors.' % len(embeddings_index))"
      ],
      "execution_count": 2,
      "outputs": [
        {
          "output_type": "stream",
          "text": [
            "Indexing word vectors.\n",
            "Found 400000 word vectors.\n"
          ],
          "name": "stdout"
        }
      ]
    },
    {
      "cell_type": "markdown",
      "metadata": {
        "id": "xsChqeiEaFU2"
      },
      "source": [
        "# **Text Preprocessing**\n",
        "\n",
        "1. Tokenization\n",
        "2. Padding\n",
        "3. Intializing embedding weights"
      ]
    },
    {
      "cell_type": "code",
      "metadata": {
        "id": "QfhlFzUsSFx9"
      },
      "source": [
        "tokenizer = Tokenizer(oov_token=\"<OOV>\")\n",
        "\n",
        "# This is \"Lanigan's Ball\", its a popular fold irish song\n",
        "data=\"In the town of Athy one Jeremy Lanigan \\n Battered away til he hadnt a pound. \\nHis father died and made him a man again \\n Left him a farm and ten acres of ground. \\nHe gave a grand party for friends and relations \\nWho didnt forget him when come to the wall, \\nAnd if youll but listen Ill make your eyes glisten \\nOf the rows and the ructions of Lanigans Ball. \\nMyself to be sure got free invitation, \\nFor all the nice girls and boys I might ask, \\nAnd just in a minute both friends and relations \\nWere dancing round merry as bees round a cask. \\nJudy ODaly, that nice little milliner, \\nShe tipped me a wink for to give her a call, \\nAnd I soon arrived with Peggy McGilligan \\nJust in time for Lanigans Ball. \\nThere were lashings of punch and wine for the ladies, \\nPotatoes and cakes; there was bacon and tea, \\nThere were the Nolans, Dolans, OGradys \\nCourting the girls and dancing away. \\nSongs they went round as plenty as water, \\nThe harp that once sounded in Taras old hall,\\nSweet Nelly Gray and The Rat Catchers Daughter,\\nAll singing together at Lanigans Ball. \\nThey were doing all kinds of nonsensical polkas \\nAll round the room in a whirligig. \\nJulia and I, we banished their nonsense \\nAnd tipped them the twist of a reel and a jig. \\nAch mavrone, how the girls got all mad at me \\nDanced til youd think the ceiling would fall. \\nFor I spent three weeks at Brooks Academy \\nLearning new steps for Lanigans Ball. \\nThree long weeks I spent up in Dublin, \\nThree long weeks to learn nothing at all,\\n Three long weeks I spent up in Dublin, \\nLearning new steps for Lanigans Ball. \\nShe stepped out and I stepped in again, \\nI stepped out and she stepped in again, \\nShe stepped out and I stepped in again, \\nLearning new steps for Lanigans Ball. \\nBoys were all merry and the girls they were hearty \\nAnd danced all around in couples and groups, \\nTil an accident happened, young Terrance McCarthy \\nPut his right leg through miss Finnertys hoops. \\nPoor creature fainted and cried Meelia murther, \\nCalled for her brothers and gathered them all. \\nCarmody swore that hed go no further \\nTil he had satisfaction at Lanigans Ball. \\nIn the midst of the row miss Kerrigan fainted, \\nHer cheeks at the same time as red as a rose. \\nSome of the lads declared she was painted, \\nShe took a small drop too much, I suppose. \\nHer sweetheart, Ned Morgan, so powerful and able, \\nWhen he saw his fair colleen stretched out by the wall, \\nTore the left leg from under the table \\nAnd smashed all the Chaneys at Lanigans Ball. \\nBoys, oh boys, twas then there were runctions. \\nMyself got a lick from big Phelim McHugh. \\nI soon replied to his introduction \\nAnd kicked up a terrible hullabaloo. \\nOld Casey, the piper, was near being strangled. \\nThey squeezed up his pipes, bellows, chanters and all. \\nThe girls, in their ribbons, they got all entangled \\nAnd that put an end to Lanigans Ball.\"\n",
        "corpus = data.lower().split('\\n')\n",
        "\n",
        "# Train the tokenizer on the text\n",
        "tokenizer.fit_on_texts(corpus)\n",
        "total_words = len(tokenizer.word_index) + 1\n",
        "input_sequences = []\n",
        "\n",
        "for line in corpus:\n",
        "  token_list = tokenizer.texts_to_sequences([line])[0]\n",
        "  for i in range(1, len(token_list)):\n",
        "    n_gram = token_list[:i+1]\n",
        "    input_sequences.append(n_gram)"
      ],
      "execution_count": 18,
      "outputs": []
    },
    {
      "cell_type": "code",
      "metadata": {
        "colab": {
          "base_uri": "https://localhost:8080/"
        },
        "id": "RLtpYdL4apNK",
        "outputId": "7364ac77-6dac-4053-fa73-29afa424546a"
      },
      "source": [
        "tokenizer.texts_to_sequences([\"hello world this is the new world\"])[0]"
      ],
      "execution_count": 19,
      "outputs": [
        {
          "output_type": "execute_result",
          "data": {
            "text/plain": [
              "[1, 1, 1, 1, 3, 38, 1]"
            ]
          },
          "metadata": {
            "tags": []
          },
          "execution_count": 19
        }
      ]
    },
    {
      "cell_type": "code",
      "metadata": {
        "id": "Me4u_FolSgJl"
      },
      "source": [
        "'''\n",
        "Pad all sentences to max length.\n",
        "\n",
        "Padding Type: Pre\n",
        "[0 0 0 0 0 4 5 6 6 23 3]\n",
        "\n",
        "Padding Type: Post\n",
        "[4 5 6 6 23 3 0 0 0 0 0]\n",
        "\n",
        "'''\n",
        "\n",
        "max_seq_len = max([len(x) for x in input_sequences])\n",
        "padded_seq = np.array(pad_sequences(input_sequences, maxlen= max_seq_len, padding='pre')) \n",
        "\n",
        "xs, labels = padded_seq[:, :-1], padded_seq[:, -1]\n",
        "\n",
        "#labels need to be converted class encodings\n",
        "ys = ku.to_categorical(labels, num_classes=total_words)\n"
      ],
      "execution_count": 20,
      "outputs": []
    },
    {
      "cell_type": "code",
      "metadata": {
        "colab": {
          "base_uri": "https://localhost:8080/"
        },
        "id": "dGxPoBlF9QdL",
        "outputId": "29e594ec-547b-43f1-a21b-3180d5f91723"
      },
      "source": [
        "'''\n",
        "This is initializes the weights matrix for all the words in the vocab and the glove embeddings\n",
        "'''\n",
        "embedding_matrix = np.zeros((total_words, 100))\n",
        "for word, i in tokenizer.word_index.items():\n",
        "    embedding_vector = embeddings_index.get(word)\n",
        "    if embedding_vector is not None:\n",
        "        embedding_matrix[i] = embedding_vector\n",
        "\n",
        "print(embedding_matrix.shape)"
      ],
      "execution_count": 21,
      "outputs": [
        {
          "output_type": "stream",
          "text": [
            "(264, 100)\n"
          ],
          "name": "stdout"
        }
      ]
    },
    {
      "cell_type": "code",
      "metadata": {
        "id": "tN_mfG579N84"
      },
      "source": [
        "model = Sequential([\n",
        "\tEmbedding(total_words, 100, input_length=max_seq_len-1, weights=[embedding_matrix]),\n",
        "\tBidirectional(LSTM(20)),\n",
        "\tDense(total_words, activation='softmax')\n",
        "])"
      ],
      "execution_count": 22,
      "outputs": []
    },
    {
      "cell_type": "code",
      "metadata": {
        "colab": {
          "base_uri": "https://localhost:8080/"
        },
        "id": "_wgg4vFNSjM6",
        "outputId": "669a8111-0103-4fb6-dd29-79b53499cad4"
      },
      "source": [
        "model.compile(loss='categorical_crossentropy',optimizer='adam',metrics=['accuracy'])\n",
        "history = model.fit(xs, ys, epochs=100, verbose=1)"
      ],
      "execution_count": 23,
      "outputs": [
        {
          "output_type": "stream",
          "text": [
            "Epoch 1/100\n",
            "15/15 [==============================] - 9s 6ms/step - loss: 5.5749 - accuracy: 0.0024\n",
            "Epoch 2/100\n",
            "15/15 [==============================] - 0s 6ms/step - loss: 5.4994 - accuracy: 0.0499\n",
            "Epoch 3/100\n",
            "15/15 [==============================] - 0s 6ms/step - loss: 5.4211 - accuracy: 0.0439\n",
            "Epoch 4/100\n",
            "15/15 [==============================] - 0s 6ms/step - loss: 5.3009 - accuracy: 0.0493\n",
            "Epoch 5/100\n",
            "15/15 [==============================] - 0s 7ms/step - loss: 5.1137 - accuracy: 0.0532\n",
            "Epoch 6/100\n",
            "15/15 [==============================] - 0s 7ms/step - loss: 5.0175 - accuracy: 0.0583\n",
            "Epoch 7/100\n",
            "15/15 [==============================] - 0s 7ms/step - loss: 4.9794 - accuracy: 0.0562\n",
            "Epoch 8/100\n",
            "15/15 [==============================] - 0s 7ms/step - loss: 4.8556 - accuracy: 0.0618\n",
            "Epoch 9/100\n",
            "15/15 [==============================] - 0s 8ms/step - loss: 4.8137 - accuracy: 0.0579\n",
            "Epoch 10/100\n",
            "15/15 [==============================] - 0s 8ms/step - loss: 4.6845 - accuracy: 0.0824\n",
            "Epoch 11/100\n",
            "15/15 [==============================] - 0s 7ms/step - loss: 4.5552 - accuracy: 0.0990\n",
            "Epoch 12/100\n",
            "15/15 [==============================] - 0s 7ms/step - loss: 4.5500 - accuracy: 0.0860\n",
            "Epoch 13/100\n",
            "15/15 [==============================] - 0s 7ms/step - loss: 4.4042 - accuracy: 0.1316\n",
            "Epoch 14/100\n",
            "15/15 [==============================] - 0s 7ms/step - loss: 4.3492 - accuracy: 0.1325\n",
            "Epoch 15/100\n",
            "15/15 [==============================] - 0s 7ms/step - loss: 4.3166 - accuracy: 0.1023\n",
            "Epoch 16/100\n",
            "15/15 [==============================] - 0s 7ms/step - loss: 4.1818 - accuracy: 0.1349\n",
            "Epoch 17/100\n",
            "15/15 [==============================] - 0s 7ms/step - loss: 4.1365 - accuracy: 0.1544\n",
            "Epoch 18/100\n",
            "15/15 [==============================] - 0s 8ms/step - loss: 4.0620 - accuracy: 0.1532\n",
            "Epoch 19/100\n",
            "15/15 [==============================] - 0s 7ms/step - loss: 3.9537 - accuracy: 0.1735\n",
            "Epoch 20/100\n",
            "15/15 [==============================] - 0s 8ms/step - loss: 3.9157 - accuracy: 0.1945\n",
            "Epoch 21/100\n",
            "15/15 [==============================] - 0s 7ms/step - loss: 3.8169 - accuracy: 0.2089\n",
            "Epoch 22/100\n",
            "15/15 [==============================] - 0s 7ms/step - loss: 3.8132 - accuracy: 0.2076\n",
            "Epoch 23/100\n",
            "15/15 [==============================] - 0s 7ms/step - loss: 3.6157 - accuracy: 0.2575\n",
            "Epoch 24/100\n",
            "15/15 [==============================] - 0s 7ms/step - loss: 3.5376 - accuracy: 0.2844\n",
            "Epoch 25/100\n",
            "15/15 [==============================] - 0s 7ms/step - loss: 3.5088 - accuracy: 0.2769\n",
            "Epoch 26/100\n",
            "15/15 [==============================] - 0s 7ms/step - loss: 3.4819 - accuracy: 0.2729\n",
            "Epoch 27/100\n",
            "15/15 [==============================] - 0s 7ms/step - loss: 3.3306 - accuracy: 0.3222\n",
            "Epoch 28/100\n",
            "15/15 [==============================] - 0s 6ms/step - loss: 3.3304 - accuracy: 0.3109\n",
            "Epoch 29/100\n",
            "15/15 [==============================] - 0s 6ms/step - loss: 3.1811 - accuracy: 0.3689\n",
            "Epoch 30/100\n",
            "15/15 [==============================] - 0s 6ms/step - loss: 3.1544 - accuracy: 0.3705\n",
            "Epoch 31/100\n",
            "15/15 [==============================] - 0s 6ms/step - loss: 3.0158 - accuracy: 0.4017\n",
            "Epoch 32/100\n",
            "15/15 [==============================] - 0s 6ms/step - loss: 3.0635 - accuracy: 0.4115\n",
            "Epoch 33/100\n",
            "15/15 [==============================] - 0s 6ms/step - loss: 2.8923 - accuracy: 0.4321\n",
            "Epoch 34/100\n",
            "15/15 [==============================] - 0s 7ms/step - loss: 2.8375 - accuracy: 0.4385\n",
            "Epoch 35/100\n",
            "15/15 [==============================] - 0s 6ms/step - loss: 2.8013 - accuracy: 0.4545\n",
            "Epoch 36/100\n",
            "15/15 [==============================] - 0s 6ms/step - loss: 2.7836 - accuracy: 0.4439\n",
            "Epoch 37/100\n",
            "15/15 [==============================] - 0s 7ms/step - loss: 2.6836 - accuracy: 0.4811\n",
            "Epoch 38/100\n",
            "15/15 [==============================] - 0s 6ms/step - loss: 2.7041 - accuracy: 0.4397\n",
            "Epoch 39/100\n",
            "15/15 [==============================] - 0s 6ms/step - loss: 2.5419 - accuracy: 0.4949\n",
            "Epoch 40/100\n",
            "15/15 [==============================] - 0s 6ms/step - loss: 2.5050 - accuracy: 0.4883\n",
            "Epoch 41/100\n",
            "15/15 [==============================] - 0s 6ms/step - loss: 2.4564 - accuracy: 0.5308\n",
            "Epoch 42/100\n",
            "15/15 [==============================] - 0s 6ms/step - loss: 2.3291 - accuracy: 0.5837\n",
            "Epoch 43/100\n",
            "15/15 [==============================] - 0s 6ms/step - loss: 2.3579 - accuracy: 0.5394\n",
            "Epoch 44/100\n",
            "15/15 [==============================] - 0s 6ms/step - loss: 2.3115 - accuracy: 0.5601\n",
            "Epoch 45/100\n",
            "15/15 [==============================] - 0s 6ms/step - loss: 2.2290 - accuracy: 0.5933\n",
            "Epoch 46/100\n",
            "15/15 [==============================] - 0s 6ms/step - loss: 2.1522 - accuracy: 0.6253\n",
            "Epoch 47/100\n",
            "15/15 [==============================] - 0s 7ms/step - loss: 2.1739 - accuracy: 0.5933\n",
            "Epoch 48/100\n",
            "15/15 [==============================] - 0s 7ms/step - loss: 2.1557 - accuracy: 0.6281\n",
            "Epoch 49/100\n",
            "15/15 [==============================] - 0s 8ms/step - loss: 2.0125 - accuracy: 0.6703\n",
            "Epoch 50/100\n",
            "15/15 [==============================] - 0s 7ms/step - loss: 2.0063 - accuracy: 0.6391\n",
            "Epoch 51/100\n",
            "15/15 [==============================] - 0s 7ms/step - loss: 1.9619 - accuracy: 0.6502\n",
            "Epoch 52/100\n",
            "15/15 [==============================] - 0s 6ms/step - loss: 1.9579 - accuracy: 0.6624\n",
            "Epoch 53/100\n",
            "15/15 [==============================] - 0s 7ms/step - loss: 1.8606 - accuracy: 0.6939\n",
            "Epoch 54/100\n",
            "15/15 [==============================] - 0s 7ms/step - loss: 1.8580 - accuracy: 0.7005\n",
            "Epoch 55/100\n",
            "15/15 [==============================] - 0s 7ms/step - loss: 1.7640 - accuracy: 0.7134\n",
            "Epoch 56/100\n",
            "15/15 [==============================] - 0s 6ms/step - loss: 1.7257 - accuracy: 0.7539\n",
            "Epoch 57/100\n",
            "15/15 [==============================] - 0s 6ms/step - loss: 1.7031 - accuracy: 0.7256\n",
            "Epoch 58/100\n",
            "15/15 [==============================] - 0s 6ms/step - loss: 1.6193 - accuracy: 0.7683\n",
            "Epoch 59/100\n",
            "15/15 [==============================] - 0s 6ms/step - loss: 1.5937 - accuracy: 0.7784\n",
            "Epoch 60/100\n",
            "15/15 [==============================] - 0s 6ms/step - loss: 1.5355 - accuracy: 0.7746\n",
            "Epoch 61/100\n",
            "15/15 [==============================] - 0s 6ms/step - loss: 1.5792 - accuracy: 0.7625\n",
            "Epoch 62/100\n",
            "15/15 [==============================] - 0s 7ms/step - loss: 1.5361 - accuracy: 0.7719\n",
            "Epoch 63/100\n",
            "15/15 [==============================] - 0s 6ms/step - loss: 1.5291 - accuracy: 0.7786\n",
            "Epoch 64/100\n",
            "15/15 [==============================] - 0s 6ms/step - loss: 1.4432 - accuracy: 0.8048\n",
            "Epoch 65/100\n",
            "15/15 [==============================] - 0s 6ms/step - loss: 1.4369 - accuracy: 0.8063\n",
            "Epoch 66/100\n",
            "15/15 [==============================] - 0s 6ms/step - loss: 1.3618 - accuracy: 0.8379\n",
            "Epoch 67/100\n",
            "15/15 [==============================] - 0s 6ms/step - loss: 1.3609 - accuracy: 0.8326\n",
            "Epoch 68/100\n",
            "15/15 [==============================] - 0s 7ms/step - loss: 1.3638 - accuracy: 0.8122\n",
            "Epoch 69/100\n",
            "15/15 [==============================] - 0s 6ms/step - loss: 1.2645 - accuracy: 0.8430\n",
            "Epoch 70/100\n",
            "15/15 [==============================] - 0s 7ms/step - loss: 1.2545 - accuracy: 0.8476\n",
            "Epoch 71/100\n",
            "15/15 [==============================] - 0s 6ms/step - loss: 1.2533 - accuracy: 0.8596\n",
            "Epoch 72/100\n",
            "15/15 [==============================] - 0s 6ms/step - loss: 1.2468 - accuracy: 0.8353\n",
            "Epoch 73/100\n",
            "15/15 [==============================] - 0s 7ms/step - loss: 1.2281 - accuracy: 0.8511\n",
            "Epoch 74/100\n",
            "15/15 [==============================] - 0s 7ms/step - loss: 1.2028 - accuracy: 0.8217\n",
            "Epoch 75/100\n",
            "15/15 [==============================] - 0s 7ms/step - loss: 1.1512 - accuracy: 0.8520\n",
            "Epoch 76/100\n",
            "15/15 [==============================] - 0s 7ms/step - loss: 1.1058 - accuracy: 0.8797\n",
            "Epoch 77/100\n",
            "15/15 [==============================] - 0s 7ms/step - loss: 1.1315 - accuracy: 0.8608\n",
            "Epoch 78/100\n",
            "15/15 [==============================] - 0s 6ms/step - loss: 1.1050 - accuracy: 0.8811\n",
            "Epoch 79/100\n",
            "15/15 [==============================] - 0s 6ms/step - loss: 1.0369 - accuracy: 0.8837\n",
            "Epoch 80/100\n",
            "15/15 [==============================] - 0s 6ms/step - loss: 1.0370 - accuracy: 0.8920\n",
            "Epoch 81/100\n",
            "15/15 [==============================] - 0s 6ms/step - loss: 1.0603 - accuracy: 0.8969\n",
            "Epoch 82/100\n",
            "15/15 [==============================] - 0s 7ms/step - loss: 1.0630 - accuracy: 0.8593\n",
            "Epoch 83/100\n",
            "15/15 [==============================] - 0s 7ms/step - loss: 0.9896 - accuracy: 0.8881\n",
            "Epoch 84/100\n",
            "15/15 [==============================] - 0s 7ms/step - loss: 0.9677 - accuracy: 0.8966\n",
            "Epoch 85/100\n",
            "15/15 [==============================] - 0s 7ms/step - loss: 0.9976 - accuracy: 0.8810\n",
            "Epoch 86/100\n",
            "15/15 [==============================] - 0s 7ms/step - loss: 0.9488 - accuracy: 0.8995\n",
            "Epoch 87/100\n",
            "15/15 [==============================] - 0s 6ms/step - loss: 0.8950 - accuracy: 0.9098\n",
            "Epoch 88/100\n",
            "15/15 [==============================] - 0s 6ms/step - loss: 0.9090 - accuracy: 0.9040\n",
            "Epoch 89/100\n",
            "15/15 [==============================] - 0s 7ms/step - loss: 0.8765 - accuracy: 0.9137\n",
            "Epoch 90/100\n",
            "15/15 [==============================] - 0s 6ms/step - loss: 0.8165 - accuracy: 0.9362\n",
            "Epoch 91/100\n",
            "15/15 [==============================] - 0s 6ms/step - loss: 0.8514 - accuracy: 0.9101\n",
            "Epoch 92/100\n",
            "15/15 [==============================] - 0s 6ms/step - loss: 0.8073 - accuracy: 0.9209\n",
            "Epoch 93/100\n",
            "15/15 [==============================] - 0s 7ms/step - loss: 0.8092 - accuracy: 0.9151\n",
            "Epoch 94/100\n",
            "15/15 [==============================] - 0s 7ms/step - loss: 0.8002 - accuracy: 0.9327\n",
            "Epoch 95/100\n",
            "15/15 [==============================] - 0s 8ms/step - loss: 0.7690 - accuracy: 0.9180\n",
            "Epoch 96/100\n",
            "15/15 [==============================] - 0s 7ms/step - loss: 0.7334 - accuracy: 0.9239\n",
            "Epoch 97/100\n",
            "15/15 [==============================] - 0s 7ms/step - loss: 0.7246 - accuracy: 0.9323\n",
            "Epoch 98/100\n",
            "15/15 [==============================] - 0s 7ms/step - loss: 0.7257 - accuracy: 0.9244\n",
            "Epoch 99/100\n",
            "15/15 [==============================] - 0s 6ms/step - loss: 0.7238 - accuracy: 0.9186\n",
            "Epoch 100/100\n",
            "15/15 [==============================] - 0s 7ms/step - loss: 0.6945 - accuracy: 0.9306\n"
          ],
          "name": "stdout"
        }
      ]
    },
    {
      "cell_type": "code",
      "metadata": {
        "colab": {
          "base_uri": "https://localhost:8080/"
        },
        "id": "vN09OUgpSsan",
        "outputId": "cfa878bb-a7cc-43e3-cf52-8450c7f95655"
      },
      "source": [
        "seed_text = \"you're\"\n",
        "next_words = 10\n",
        "  \n",
        "for _ in range(next_words):\n",
        "\ttoken_list = tokenizer.texts_to_sequences([seed_text])[0]\n",
        "\ttoken_list = pad_sequences([token_list], maxlen=max_seq_len-1, padding='pre')\n",
        "\tpredicted = model.predict_classes(token_list, verbose=0)\n",
        "\toutput_word = \"\"\n",
        "\tfor word, index in tokenizer.word_index.items():\n",
        "\t\tif index == predicted:\n",
        "\t\t\toutput_word = word\n",
        "\t\t\tbreak\n",
        "\tseed_text += \" \" + output_word\n",
        "print(seed_text)"
      ],
      "execution_count": 25,
      "outputs": [
        {
          "output_type": "stream",
          "text": [
            "/usr/local/lib/python3.6/dist-packages/tensorflow/python/keras/engine/sequential.py:450: UserWarning: `model.predict_classes()` is deprecated and will be removed after 2021-01-01. Please use instead:* `np.argmax(model.predict(x), axis=-1)`,   if your model does multi-class classification   (e.g. if it uses a `softmax` last-layer activation).* `(model.predict(x) > 0.5).astype(\"int32\")`,   if your model does binary classification   (e.g. if it uses a `sigmoid` last-layer activation).\n",
            "  warnings.warn('`model.predict_classes()` is deprecated and '\n"
          ],
          "name": "stderr"
        },
        {
          "output_type": "stream",
          "text": [
            "you're the harp that once sounded in taras old hall old\n"
          ],
          "name": "stdout"
        }
      ]
    },
    {
      "cell_type": "markdown",
      "metadata": {
        "id": "BJBHV3SSQT18"
      },
      "source": [
        "You can clearly observe that the performance of the model is not that great, its because of the small size of the training data. Usually language models are trained on more than a billions word corpus. \n",
        "\n",
        "I hope this gives a very basic idea about how language modeling task is actually implemented."
      ]
    },
    {
      "cell_type": "code",
      "metadata": {
        "id": "fXbS598NQpzv"
      },
      "source": [
        ""
      ],
      "execution_count": null,
      "outputs": []
    }
  ]
}